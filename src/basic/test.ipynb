{
 "cells": [
  {
   "cell_type": "code",
   "execution_count": 8,
   "id": "initial_id",
   "metadata": {
    "collapsed": true,
    "ExecuteTime": {
     "end_time": "2023-11-27T02:57:50.468433Z",
     "start_time": "2023-11-27T02:57:50.456081Z"
    }
   },
   "outputs": [],
   "source": [
    "import sys\n",
    "sys.path.insert(1,\"/Users/haoyangchen/Desktop/ChenHaoyang/coding/python/ECG_XAI\")"
   ]
  },
  {
   "cell_type": "code",
   "execution_count": 9,
   "outputs": [],
   "source": [
    "from src.basic.ecg_dataset import EcgDataset"
   ],
   "metadata": {
    "collapsed": false,
    "ExecuteTime": {
     "end_time": "2023-11-27T02:57:50.468681Z",
     "start_time": "2023-11-27T02:57:50.462836Z"
    }
   },
   "id": "bb2c2c0dcae31ea4"
  },
  {
   "cell_type": "code",
   "execution_count": 10,
   "outputs": [],
   "source": [
    "from src.basic.constants import *"
   ],
   "metadata": {
    "collapsed": false,
    "ExecuteTime": {
     "end_time": "2023-11-27T02:57:50.483394Z",
     "start_time": "2023-11-27T02:57:50.465871Z"
    }
   },
   "id": "459a081d93d33d"
  },
  {
   "cell_type": "code",
   "execution_count": 11,
   "outputs": [],
   "source": [
    "from src.utils.data_utils import *"
   ],
   "metadata": {
    "collapsed": false,
    "ExecuteTime": {
     "end_time": "2023-11-27T02:57:50.483849Z",
     "start_time": "2023-11-27T02:57:50.470329Z"
    }
   },
   "id": "69f58061c6bdc6ae"
  },
  {
   "cell_type": "code",
   "execution_count": 12,
   "outputs": [],
   "source": [
    "database = load_database(PTBXL_PATH)"
   ],
   "metadata": {
    "collapsed": false,
    "ExecuteTime": {
     "end_time": "2023-11-27T02:58:07.394718Z",
     "start_time": "2023-11-27T02:57:50.478774Z"
    }
   },
   "id": "7ddd12b48b639e57"
  },
  {
   "cell_type": "code",
   "execution_count": 13,
   "outputs": [],
   "source": [
    "X = load_corresponding_ecg(database, PTBXL_PATH)"
   ],
   "metadata": {
    "collapsed": false,
    "ExecuteTime": {
     "end_time": "2023-11-27T02:59:32.318212Z",
     "start_time": "2023-11-27T02:58:07.394964Z"
    }
   },
   "id": "d00c33a8a44f9177"
  },
  {
   "cell_type": "code",
   "execution_count": 14,
   "outputs": [
    {
     "name": "stdout",
     "output_type": "stream",
     "text": [
      "****************************************\n",
      "** processing ecg 0 of 13070 **\n"
     ]
    },
    {
     "ename": "KeyboardInterrupt",
     "evalue": "",
     "output_type": "error",
     "traceback": [
      "\u001B[0;31m---------------------------------------------------------------------------\u001B[0m",
      "\u001B[0;31mKeyboardInterrupt\u001B[0m                         Traceback (most recent call last)",
      "Cell \u001B[0;32mIn[14], line 2\u001B[0m\n\u001B[1;32m      1\u001B[0m train_mask \u001B[38;5;241m=\u001B[39m database\u001B[38;5;241m.\u001B[39mstrat_fold\u001B[38;5;241m.\u001B[39misin(TRAIN_FOLDS)\n\u001B[0;32m----> 2\u001B[0m train_ds \u001B[38;5;241m=\u001B[39m \u001B[43mEcgDataset\u001B[49m\u001B[43m(\u001B[49m\u001B[38;5;124;43m'\u001B[39;49m\u001B[38;5;124;43mtrain\u001B[39;49m\u001B[38;5;124;43m'\u001B[39;49m\u001B[43m,\u001B[49m\u001B[43m \u001B[49m\u001B[43mX\u001B[49m\u001B[43m[\u001B[49m\u001B[43mtrain_mask\u001B[49m\u001B[43m]\u001B[49m\u001B[43m,\u001B[49m\u001B[43m \u001B[49m\u001B[43mdatabase\u001B[49m\u001B[43m[\u001B[49m\u001B[43mtrain_mask\u001B[49m\u001B[43m]\u001B[49m\u001B[43m)\u001B[49m\n",
      "File \u001B[0;32m~/Desktop/ChenHaoyang/coding/python/ECG_XAI/src/basic/ecg_dataset.py:25\u001B[0m, in \u001B[0;36mEcgDataset.__init__\u001B[0;34m(self, sample_name, raw_recordings, database_df)\u001B[0m\n\u001B[1;32m     22\u001B[0m \u001B[38;5;28;01mif\u001B[39;00m i \u001B[38;5;241m%\u001B[39m \u001B[38;5;241m100\u001B[39m \u001B[38;5;241m==\u001B[39m \u001B[38;5;241m0\u001B[39m:\n\u001B[1;32m     23\u001B[0m     \u001B[38;5;28mprint\u001B[39m(\u001B[38;5;124m'\u001B[39m\u001B[38;5;124m****************************************\u001B[39m\u001B[38;5;130;01m\\n\u001B[39;00m\u001B[38;5;124m** processing ecg\u001B[39m\u001B[38;5;124m'\u001B[39m, i, \u001B[38;5;124m'\u001B[39m\u001B[38;5;124mof\u001B[39m\u001B[38;5;124m'\u001B[39m, \u001B[38;5;28mlen\u001B[39m(\u001B[38;5;28mself\u001B[39m\u001B[38;5;241m.\u001B[39mraw_recordings),\n\u001B[1;32m     24\u001B[0m           \u001B[38;5;124m'\u001B[39m\u001B[38;5;124m**\u001B[39m\u001B[38;5;124m'\u001B[39m)\n\u001B[0;32m---> 25\u001B[0m ecg \u001B[38;5;241m=\u001B[39m \u001B[43mEcg\u001B[49m\u001B[43m(\u001B[49m\u001B[38;5;28;43mself\u001B[39;49m\u001B[38;5;241;43m.\u001B[39;49m\u001B[43mraw_recordings\u001B[49m\u001B[43m[\u001B[49m\u001B[43mi\u001B[49m\u001B[43m]\u001B[49m\u001B[43m,\u001B[49m\u001B[43m \u001B[49m\u001B[38;5;28;43mself\u001B[39;49m\u001B[38;5;241;43m.\u001B[39;49m\u001B[43mdatabase_df\u001B[49m\u001B[38;5;241;43m.\u001B[39;49m\u001B[43miloc\u001B[49m\u001B[43m[\u001B[49m\u001B[43mi\u001B[49m\u001B[43m]\u001B[49m\u001B[43m)\u001B[49m\n\u001B[1;32m     26\u001B[0m \u001B[38;5;28mself\u001B[39m\u001B[38;5;241m.\u001B[39mis_ecg_used\u001B[38;5;241m.\u001B[39mappend(ecg\u001B[38;5;241m.\u001B[39mis_used)\n\u001B[1;32m     27\u001B[0m \u001B[38;5;28;01mif\u001B[39;00m ecg\u001B[38;5;241m.\u001B[39mis_used:\n",
      "File \u001B[0;32m~/Desktop/ChenHaoyang/coding/python/ECG_XAI/src/basic/ecg.py:37\u001B[0m, in \u001B[0;36mEcg.__init__\u001B[0;34m(self, raw, metadata, preprocess)\u001B[0m\n\u001B[1;32m     35\u001B[0m \u001B[38;5;28mself\u001B[39m\u001B[38;5;241m.\u001B[39mis_used: \u001B[38;5;28mbool\u001B[39m \u001B[38;5;241m=\u001B[39m \u001B[38;5;28;01mTrue\u001B[39;00m\n\u001B[1;32m     36\u001B[0m \u001B[38;5;28;01mif\u001B[39;00m preprocess:\n\u001B[0;32m---> 37\u001B[0m     \u001B[38;5;28;43mself\u001B[39;49m\u001B[38;5;241;43m.\u001B[39;49m\u001B[43m_preprocess\u001B[49m\u001B[43m(\u001B[49m\u001B[43m)\u001B[49m\n",
      "File \u001B[0;32m~/Desktop/ChenHaoyang/coding/python/ECG_XAI/src/basic/ecg.py:53\u001B[0m, in \u001B[0;36mEcg._preprocess\u001B[0;34m(self)\u001B[0m\n\u001B[1;32m     52\u001B[0m \u001B[38;5;28;01mdef\u001B[39;00m \u001B[38;5;21m_preprocess\u001B[39m(\u001B[38;5;28mself\u001B[39m):\n\u001B[0;32m---> 53\u001B[0m     \u001B[38;5;28;43mself\u001B[39;49m\u001B[38;5;241;43m.\u001B[39;49m\u001B[43mget_cycles\u001B[49m\u001B[43m(\u001B[49m\u001B[43m)\u001B[49m\n",
      "File \u001B[0;32m~/Desktop/ChenHaoyang/coding/python/ECG_XAI/src/basic/ecg.py:168\u001B[0m, in \u001B[0;36mEcg.get_cycles\u001B[0;34m(self)\u001B[0m\n\u001B[1;32m    166\u001B[0m \u001B[38;5;28;01mdef\u001B[39;00m \u001B[38;5;21mget_cycles\u001B[39m(\u001B[38;5;28mself\u001B[39m):\n\u001B[1;32m    167\u001B[0m     \u001B[38;5;28;01mif\u001B[39;00m \u001B[38;5;129;01mnot\u001B[39;00m \u001B[38;5;28mself\u001B[39m\u001B[38;5;241m.\u001B[39mhas_delineated:\n\u001B[0;32m--> 168\u001B[0m         \u001B[38;5;28;43mself\u001B[39;49m\u001B[38;5;241;43m.\u001B[39;49m\u001B[43mdelineate\u001B[49m\u001B[43m(\u001B[49m\u001B[43m)\u001B[49m\n\u001B[1;32m    169\u001B[0m     \u001B[38;5;28;01mif\u001B[39;00m VERBOSE:\n\u001B[1;32m    170\u001B[0m         \u001B[38;5;28mprint\u001B[39m(\u001B[38;5;124m'\u001B[39m\u001B[38;5;124mGetting cardiac cycles...\u001B[39m\u001B[38;5;124m'\u001B[39m)\n",
      "File \u001B[0;32m~/Desktop/ChenHaoyang/coding/python/ECG_XAI/src/basic/ecg.py:136\u001B[0m, in \u001B[0;36mEcg.delineate\u001B[0;34m(self, method, check_P_inversion, check_T_inversion)\u001B[0m\n\u001B[1;32m    134\u001B[0m \u001B[38;5;28;01mif\u001B[39;00m VERBOSE:\n\u001B[1;32m    135\u001B[0m     \u001B[38;5;28mprint\u001B[39m(\u001B[38;5;124m'\u001B[39m\u001B[38;5;124m* Delineating inverted ECG signal... *\u001B[39m\u001B[38;5;124m'\u001B[39m)\n\u001B[0;32m--> 136\u001B[0m inverted_ecg_delineations, _, _ \u001B[38;5;241m=\u001B[39m \u001B[43minverted_ecg\u001B[49m\u001B[38;5;241;43m.\u001B[39;49m\u001B[43mdelineate\u001B[49m\u001B[43m(\u001B[49m\u001B[43mmethod\u001B[49m\u001B[38;5;241;43m=\u001B[39;49m\u001B[43mmethod\u001B[49m\u001B[43m,\u001B[49m\n\u001B[1;32m    137\u001B[0m \u001B[43m                                                         \u001B[49m\u001B[43mcheck_T_inversion\u001B[49m\u001B[38;5;241;43m=\u001B[39;49m\u001B[38;5;28;43;01mFalse\u001B[39;49;00m\u001B[43m,\u001B[49m\n\u001B[1;32m    138\u001B[0m \u001B[43m                                                         \u001B[49m\u001B[43mcheck_P_inversion\u001B[49m\u001B[38;5;241;43m=\u001B[39;49m\u001B[38;5;28;43;01mFalse\u001B[39;49;00m\u001B[43m)\u001B[49m\n\u001B[1;32m    140\u001B[0m \u001B[38;5;28;01mif\u001B[39;00m \u001B[38;5;129;01mnot\u001B[39;00m inverted_ecg_delineations:\n\u001B[1;32m    141\u001B[0m     \u001B[38;5;28;01mreturn\u001B[39;00m \u001B[38;5;28mself\u001B[39m\u001B[38;5;241m.\u001B[39mdelineations, are_P_inverted, are_T_inverted\n",
      "File \u001B[0;32m~/Desktop/ChenHaoyang/coding/python/ECG_XAI/src/basic/ecg.py:109\u001B[0m, in \u001B[0;36mEcg.delineate\u001B[0;34m(self, method, check_P_inversion, check_T_inversion)\u001B[0m\n\u001B[1;32m    105\u001B[0m     \u001B[38;5;28;01mreturn\u001B[39;00m \u001B[38;5;28mself\u001B[39m\u001B[38;5;241m.\u001B[39mdelineations, are_P_inverted, are_T_inverted\n\u001B[1;32m    107\u001B[0m \u001B[38;5;66;03m# Delineate the ECG signal\u001B[39;00m\n\u001B[1;32m    108\u001B[0m \u001B[38;5;66;03m# try:\u001B[39;00m\n\u001B[0;32m--> 109\u001B[0m \u001B[38;5;28mself\u001B[39m\u001B[38;5;241m.\u001B[39mdelineations: \u001B[38;5;28mlist\u001B[39m[\u001B[38;5;28mdict\u001B[39m[\u001B[38;5;28mstr\u001B[39m, \u001B[38;5;28mlist\u001B[39m]] \u001B[38;5;241m=\u001B[39m \u001B[43mget_all_delineations\u001B[49m\u001B[43m(\u001B[49m\u001B[38;5;28;43mself\u001B[39;49m\u001B[38;5;241;43m.\u001B[39;49m\u001B[43mcleaned\u001B[49m\u001B[43m,\u001B[49m\n\u001B[1;32m    110\u001B[0m \u001B[43m                                                                \u001B[49m\u001B[38;5;28;43mself\u001B[39;49m\u001B[38;5;241;43m.\u001B[39;49m\u001B[43mall_rpeaks\u001B[49m\u001B[43m,\u001B[49m\n\u001B[1;32m    111\u001B[0m \u001B[43m                                                                \u001B[49m\u001B[43mmethod\u001B[49m\u001B[38;5;241;43m=\u001B[39;49m\u001B[43mmethod\u001B[49m\u001B[43m)\u001B[49m\n\u001B[1;32m    112\u001B[0m \u001B[38;5;66;03m# except:  # noqa: E722\u001B[39;00m\n\u001B[1;32m    113\u001B[0m \u001B[38;5;66;03m#     if VERBOSE:\u001B[39;00m\n\u001B[1;32m    114\u001B[0m \u001B[38;5;66;03m#         print('--> Cannot delineate the ECG signal')\u001B[39;00m\n\u001B[0;32m   (...)\u001B[0m\n\u001B[1;32m    117\u001B[0m \n\u001B[1;32m    118\u001B[0m \u001B[38;5;66;03m# check whether in each lead, all features have the same number of feature points\u001B[39;00m\n\u001B[1;32m    119\u001B[0m \u001B[38;5;28;01mfor\u001B[39;00m i \u001B[38;5;129;01min\u001B[39;00m \u001B[38;5;28mrange\u001B[39m(N_LEADS):\n",
      "File \u001B[0;32m~/Desktop/ChenHaoyang/coding/python/ECG_XAI/src/utils/ecg_utils.py:112\u001B[0m, in \u001B[0;36mget_all_delineations\u001B[0;34m(cleaned, all_rpeaks, method)\u001B[0m\n\u001B[1;32m    109\u001B[0m all_delineations \u001B[38;5;241m=\u001B[39m []\n\u001B[1;32m    110\u001B[0m \u001B[38;5;28;01mfor\u001B[39;00m i \u001B[38;5;129;01min\u001B[39;00m \u001B[38;5;28mrange\u001B[39m(cleaned\u001B[38;5;241m.\u001B[39mshape[\u001B[38;5;241m0\u001B[39m]):\n\u001B[1;32m    111\u001B[0m     \u001B[38;5;66;03m# print(get_delineation(cleaned[i], all_rpeaks[i], method=method))\u001B[39;00m\n\u001B[0;32m--> 112\u001B[0m     all_delineations\u001B[38;5;241m.\u001B[39mappend(\u001B[43mget_delineation\u001B[49m\u001B[43m(\u001B[49m\u001B[43mcleaned\u001B[49m\u001B[43m[\u001B[49m\u001B[43mi\u001B[49m\u001B[43m]\u001B[49m\u001B[43m,\u001B[49m\u001B[43m \u001B[49m\u001B[43mall_rpeaks\u001B[49m\u001B[43m[\u001B[49m\u001B[43mi\u001B[49m\u001B[43m]\u001B[49m\u001B[43m,\u001B[49m\u001B[43m \u001B[49m\u001B[43mmethod\u001B[49m\u001B[38;5;241;43m=\u001B[39;49m\u001B[43mmethod\u001B[49m\u001B[43m)\u001B[49m)\n\u001B[1;32m    114\u001B[0m \u001B[38;5;28;01mreturn\u001B[39;00m all_delineations\n",
      "File \u001B[0;32m~/Desktop/ChenHaoyang/coding/python/ECG_XAI/src/utils/ecg_utils.py:74\u001B[0m, in \u001B[0;36mget_delineation\u001B[0;34m(cleaned, rpeaks, method)\u001B[0m\n\u001B[1;32m     71\u001B[0m     warnings\u001B[38;5;241m.\u001B[39msimplefilter(\u001B[38;5;124m\"\u001B[39m\u001B[38;5;124mignore\u001B[39m\u001B[38;5;124m\"\u001B[39m, category\u001B[38;5;241m=\u001B[39m\u001B[38;5;167;01mRuntimeWarning\u001B[39;00m)\n\u001B[1;32m     72\u001B[0m     \u001B[38;5;66;03m# np.set_printoptions(threshold=np.inf)\u001B[39;00m\n\u001B[1;32m     73\u001B[0m     \u001B[38;5;66;03m# print(cleaned)\u001B[39;00m\n\u001B[0;32m---> 74\u001B[0m     _, delineation \u001B[38;5;241m=\u001B[39m \u001B[43mnk\u001B[49m\u001B[38;5;241;43m.\u001B[39;49m\u001B[43mecg_delineate\u001B[49m\u001B[43m(\u001B[49m\u001B[43mcleaned\u001B[49m\u001B[43m,\u001B[49m\u001B[43m \u001B[49m\u001B[43mrpeaks\u001B[49m\u001B[43m,\u001B[49m\u001B[43m \u001B[49m\u001B[43msampling_rate\u001B[49m\u001B[38;5;241;43m=\u001B[39;49m\u001B[43mSAMPLING_RATE\u001B[49m\u001B[43m,\u001B[49m\u001B[43m \u001B[49m\u001B[43mmethod\u001B[49m\u001B[38;5;241;43m=\u001B[39;49m\u001B[43mmethod\u001B[49m\u001B[43m)\u001B[49m\n\u001B[1;32m     77\u001B[0m \u001B[38;5;28;01mfor\u001B[39;00m feat_name, feat_indices \u001B[38;5;129;01min\u001B[39;00m delineation\u001B[38;5;241m.\u001B[39mitems():\n\u001B[1;32m     78\u001B[0m     \u001B[38;5;66;03m# print(feat_indices)\u001B[39;00m\n\u001B[1;32m     79\u001B[0m     delineation[feat_name] \u001B[38;5;241m=\u001B[39m np\u001B[38;5;241m.\u001B[39marray(feat_indices)\n",
      "File \u001B[0;32m/opt/anaconda3/envs/ecg_xai/lib/python3.10/site-packages/neurokit2/ecg/ecg_delineate.py:164\u001B[0m, in \u001B[0;36mecg_delineate\u001B[0;34m(ecg_cleaned, rpeaks, sampling_rate, method, show, show_type, check, **kwargs)\u001B[0m\n\u001B[1;32m    160\u001B[0m     waves \u001B[38;5;241m=\u001B[39m _ecg_delineator_cwt(\n\u001B[1;32m    161\u001B[0m         ecg_cleaned, rpeaks\u001B[38;5;241m=\u001B[39mrpeaks, sampling_rate\u001B[38;5;241m=\u001B[39msampling_rate\n\u001B[1;32m    162\u001B[0m     )\n\u001B[1;32m    163\u001B[0m \u001B[38;5;28;01melif\u001B[39;00m method \u001B[38;5;129;01min\u001B[39;00m [\u001B[38;5;124m\"\u001B[39m\u001B[38;5;124mdwt\u001B[39m\u001B[38;5;124m\"\u001B[39m, \u001B[38;5;124m\"\u001B[39m\u001B[38;5;124mdiscrete wavelet transform\u001B[39m\u001B[38;5;124m\"\u001B[39m]:\n\u001B[0;32m--> 164\u001B[0m     waves \u001B[38;5;241m=\u001B[39m \u001B[43m_dwt_ecg_delineator\u001B[49m\u001B[43m(\u001B[49m\u001B[43mecg_cleaned\u001B[49m\u001B[43m,\u001B[49m\u001B[43m \u001B[49m\u001B[43mrpeaks\u001B[49m\u001B[43m,\u001B[49m\u001B[43m \u001B[49m\u001B[43msampling_rate\u001B[49m\u001B[38;5;241;43m=\u001B[39;49m\u001B[43msampling_rate\u001B[49m\u001B[43m)\u001B[49m\n\u001B[1;32m    166\u001B[0m \u001B[38;5;28;01melse\u001B[39;00m:\n\u001B[1;32m    167\u001B[0m     \u001B[38;5;28;01mraise\u001B[39;00m \u001B[38;5;167;01mValueError\u001B[39;00m(\n\u001B[1;32m    168\u001B[0m         \u001B[38;5;124m\"\u001B[39m\u001B[38;5;124mNeuroKit error: ecg_delineate(): \u001B[39m\u001B[38;5;124m'\u001B[39m\u001B[38;5;124mmethod\u001B[39m\u001B[38;5;124m'\u001B[39m\u001B[38;5;124m should be one of \u001B[39m\u001B[38;5;124m'\u001B[39m\u001B[38;5;124mpeak\u001B[39m\u001B[38;5;124m'\u001B[39m\u001B[38;5;124m,\u001B[39m\u001B[38;5;124m\"\u001B[39m\n\u001B[1;32m    169\u001B[0m         \u001B[38;5;124m\"\u001B[39m\u001B[38;5;124m'\u001B[39m\u001B[38;5;124mcwt\u001B[39m\u001B[38;5;124m'\u001B[39m\u001B[38;5;124m or \u001B[39m\u001B[38;5;124m'\u001B[39m\u001B[38;5;124mdwt\u001B[39m\u001B[38;5;124m'\u001B[39m\u001B[38;5;124m.\u001B[39m\u001B[38;5;124m\"\u001B[39m\n\u001B[1;32m    170\u001B[0m     )\n",
      "File \u001B[0;32m/opt/anaconda3/envs/ecg_xai/lib/python3.10/site-packages/neurokit2/ecg/ecg_delineate.py:270\u001B[0m, in \u001B[0;36m_dwt_ecg_delineator\u001B[0;34m(ecg, rpeaks, sampling_rate, analysis_sampling_rate)\u001B[0m\n\u001B[1;32m    266\u001B[0m \u001B[38;5;66;03m# dwt to delineate tp waves, onsets, offsets and qrs ontsets and offsets\u001B[39;00m\n\u001B[1;32m    267\u001B[0m ecg \u001B[38;5;241m=\u001B[39m signal_resample(\n\u001B[1;32m    268\u001B[0m     ecg, sampling_rate\u001B[38;5;241m=\u001B[39msampling_rate, desired_sampling_rate\u001B[38;5;241m=\u001B[39manalysis_sampling_rate\n\u001B[1;32m    269\u001B[0m )\n\u001B[0;32m--> 270\u001B[0m dwtmatr \u001B[38;5;241m=\u001B[39m \u001B[43m_dwt_compute_multiscales\u001B[49m\u001B[43m(\u001B[49m\u001B[43mecg\u001B[49m\u001B[43m,\u001B[49m\u001B[43m \u001B[49m\u001B[38;5;241;43m9\u001B[39;49m\u001B[43m)\u001B[49m\n\u001B[1;32m    272\u001B[0m \u001B[38;5;66;03m# # only for debugging\u001B[39;00m\n\u001B[1;32m    273\u001B[0m \u001B[38;5;66;03m# for idx in [0, 1, 2, 3]:\u001B[39;00m\n\u001B[1;32m    274\u001B[0m \u001B[38;5;66;03m#     plt.plot(dwtmatr[idx + 3], label=f'W[{idx}]')\u001B[39;00m\n\u001B[0;32m   (...)\u001B[0m\n\u001B[1;32m    277\u001B[0m \u001B[38;5;66;03m# plt.grid(True)\u001B[39;00m\n\u001B[1;32m    278\u001B[0m \u001B[38;5;66;03m# plt.show()\u001B[39;00m\n\u001B[1;32m    279\u001B[0m rpeaks_resampled \u001B[38;5;241m=\u001B[39m _dwt_resample_points(\n\u001B[1;32m    280\u001B[0m     rpeaks, sampling_rate, analysis_sampling_rate\n\u001B[1;32m    281\u001B[0m )\n",
      "File \u001B[0;32m/opt/anaconda3/envs/ecg_xai/lib/python3.10/site-packages/neurokit2/ecg/ecg_delineate.py:677\u001B[0m, in \u001B[0;36m_dwt_compute_multiscales\u001B[0;34m(ecg, max_degree)\u001B[0m\n\u001B[1;32m    675\u001B[0m intermediate_ret \u001B[38;5;241m=\u001B[39m np\u001B[38;5;241m.\u001B[39marray(ecg)\n\u001B[1;32m    676\u001B[0m \u001B[38;5;28;01mfor\u001B[39;00m deg \u001B[38;5;129;01min\u001B[39;00m \u001B[38;5;28mrange\u001B[39m(max_degree):\n\u001B[0;32m--> 677\u001B[0m     S_deg \u001B[38;5;241m=\u001B[39m \u001B[43m_apply_G_filter\u001B[49m\u001B[43m(\u001B[49m\u001B[43mintermediate_ret\u001B[49m\u001B[43m,\u001B[49m\u001B[43m \u001B[49m\u001B[43mpower\u001B[49m\u001B[38;5;241;43m=\u001B[39;49m\u001B[43mdeg\u001B[49m\u001B[43m)\u001B[49m\n\u001B[1;32m    678\u001B[0m     T_deg \u001B[38;5;241m=\u001B[39m _apply_H_filter(intermediate_ret, power\u001B[38;5;241m=\u001B[39mdeg)\n\u001B[1;32m    679\u001B[0m     dwtmatr\u001B[38;5;241m.\u001B[39mappend(S_deg)\n",
      "File \u001B[0;32m/opt/anaconda3/envs/ecg_xai/lib/python3.10/site-packages/neurokit2/ecg/ecg_delineate.py:670\u001B[0m, in \u001B[0;36m_dwt_compute_multiscales.<locals>._apply_G_filter\u001B[0;34m(signal_i, power)\u001B[0m\n\u001B[1;32m    668\u001B[0m timedelay \u001B[38;5;241m=\u001B[39m \u001B[38;5;241m2\u001B[39m\u001B[38;5;241m*\u001B[39m\u001B[38;5;241m*\u001B[39mpower\n\u001B[1;32m    669\u001B[0m banks \u001B[38;5;241m=\u001B[39m np\u001B[38;5;241m.\u001B[39mr_[\u001B[38;5;241m2\u001B[39m, zeros, \u001B[38;5;241m-\u001B[39m\u001B[38;5;241m2\u001B[39m]\n\u001B[0;32m--> 670\u001B[0m signal_f \u001B[38;5;241m=\u001B[39m \u001B[43mscipy\u001B[49m\u001B[38;5;241;43m.\u001B[39;49m\u001B[43msignal\u001B[49m\u001B[38;5;241;43m.\u001B[39;49m\u001B[43mconvolve\u001B[49m\u001B[43m(\u001B[49m\u001B[43msignal_i\u001B[49m\u001B[43m,\u001B[49m\u001B[43m \u001B[49m\u001B[43mbanks\u001B[49m\u001B[43m,\u001B[49m\u001B[43m \u001B[49m\u001B[43mmode\u001B[49m\u001B[38;5;241;43m=\u001B[39;49m\u001B[38;5;124;43m\"\u001B[39;49m\u001B[38;5;124;43mfull\u001B[39;49m\u001B[38;5;124;43m\"\u001B[39;49m\u001B[43m)\u001B[49m\n\u001B[1;32m    671\u001B[0m signal_f[:\u001B[38;5;241m-\u001B[39mtimedelay] \u001B[38;5;241m=\u001B[39m signal_f[timedelay:]  \u001B[38;5;66;03m# timeshift: 1 step\u001B[39;00m\n\u001B[1;32m    672\u001B[0m \u001B[38;5;28;01mreturn\u001B[39;00m signal_f\n",
      "File \u001B[0;32m/opt/anaconda3/envs/ecg_xai/lib/python3.10/site-packages/scipy/signal/_signaltools.py:1428\u001B[0m, in \u001B[0;36mconvolve\u001B[0;34m(in1, in2, mode, method)\u001B[0m\n\u001B[1;32m   1425\u001B[0m \u001B[38;5;28;01melif\u001B[39;00m method \u001B[38;5;241m==\u001B[39m \u001B[38;5;124m'\u001B[39m\u001B[38;5;124mdirect\u001B[39m\u001B[38;5;124m'\u001B[39m:\n\u001B[1;32m   1426\u001B[0m     \u001B[38;5;66;03m# fastpath to faster numpy.convolve for 1d inputs when possible\u001B[39;00m\n\u001B[1;32m   1427\u001B[0m     \u001B[38;5;28;01mif\u001B[39;00m _np_conv_ok(volume, kernel, mode):\n\u001B[0;32m-> 1428\u001B[0m         \u001B[38;5;28;01mreturn\u001B[39;00m \u001B[43mnp\u001B[49m\u001B[38;5;241;43m.\u001B[39;49m\u001B[43mconvolve\u001B[49m\u001B[43m(\u001B[49m\u001B[43mvolume\u001B[49m\u001B[43m,\u001B[49m\u001B[43m \u001B[49m\u001B[43mkernel\u001B[49m\u001B[43m,\u001B[49m\u001B[43m \u001B[49m\u001B[43mmode\u001B[49m\u001B[43m)\u001B[49m\n\u001B[1;32m   1430\u001B[0m     \u001B[38;5;28;01mreturn\u001B[39;00m correlate(volume, _reverse_and_conj(kernel), mode, \u001B[38;5;124m'\u001B[39m\u001B[38;5;124mdirect\u001B[39m\u001B[38;5;124m'\u001B[39m)\n\u001B[1;32m   1431\u001B[0m \u001B[38;5;28;01melse\u001B[39;00m:\n",
      "File \u001B[0;32m<__array_function__ internals>:180\u001B[0m, in \u001B[0;36mconvolve\u001B[0;34m(*args, **kwargs)\u001B[0m\n",
      "File \u001B[0;32m/opt/anaconda3/envs/ecg_xai/lib/python3.10/site-packages/numpy/core/numeric.py:850\u001B[0m, in \u001B[0;36mconvolve\u001B[0;34m(a, v, mode)\u001B[0m\n\u001B[1;32m    848\u001B[0m \u001B[38;5;28;01mif\u001B[39;00m \u001B[38;5;28mlen\u001B[39m(v) \u001B[38;5;241m==\u001B[39m \u001B[38;5;241m0\u001B[39m:\n\u001B[1;32m    849\u001B[0m     \u001B[38;5;28;01mraise\u001B[39;00m \u001B[38;5;167;01mValueError\u001B[39;00m(\u001B[38;5;124m'\u001B[39m\u001B[38;5;124mv cannot be empty\u001B[39m\u001B[38;5;124m'\u001B[39m)\n\u001B[0;32m--> 850\u001B[0m \u001B[38;5;28;01mreturn\u001B[39;00m \u001B[43mmultiarray\u001B[49m\u001B[38;5;241;43m.\u001B[39;49m\u001B[43mcorrelate\u001B[49m\u001B[43m(\u001B[49m\u001B[43ma\u001B[49m\u001B[43m,\u001B[49m\u001B[43m \u001B[49m\u001B[43mv\u001B[49m\u001B[43m[\u001B[49m\u001B[43m:\u001B[49m\u001B[43m:\u001B[49m\u001B[38;5;241;43m-\u001B[39;49m\u001B[38;5;241;43m1\u001B[39;49m\u001B[43m]\u001B[49m\u001B[43m,\u001B[49m\u001B[43m \u001B[49m\u001B[43mmode\u001B[49m\u001B[43m)\u001B[49m\n",
      "\u001B[0;31mKeyboardInterrupt\u001B[0m: "
     ]
    }
   ],
   "source": [
    "train_mask = database.strat_fold.isin(TRAIN_FOLDS)\n",
    "train_ds = EcgDataset('train', X[train_mask], database[train_mask])"
   ],
   "metadata": {
    "collapsed": false,
    "ExecuteTime": {
     "end_time": "2023-11-27T03:01:17.837090Z",
     "start_time": "2023-11-27T02:59:47.134602Z"
    }
   },
   "id": "9daf0dd45f430c9a"
  },
  {
   "cell_type": "code",
   "execution_count": null,
   "outputs": [],
   "source": [],
   "metadata": {
    "collapsed": false
   },
   "id": "70590bc1d8a67b39"
  }
 ],
 "metadata": {
  "kernelspec": {
   "display_name": "Python 3",
   "language": "python",
   "name": "python3"
  },
  "language_info": {
   "codemirror_mode": {
    "name": "ipython",
    "version": 2
   },
   "file_extension": ".py",
   "mimetype": "text/x-python",
   "name": "python",
   "nbconvert_exporter": "python",
   "pygments_lexer": "ipython2",
   "version": "2.7.6"
  }
 },
 "nbformat": 4,
 "nbformat_minor": 5
}
