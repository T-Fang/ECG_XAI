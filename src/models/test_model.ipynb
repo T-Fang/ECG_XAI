{
 "cells": [
  {
   "cell_type": "code",
   "execution_count": 1,
   "metadata": {},
   "outputs": [],
   "source": [
    "%load_ext autoreload\n",
    "%autoreload 2\n",
    "import sys\n",
    "sys.path.insert(1, '../../')"
   ]
  },
  {
   "cell_type": "code",
   "execution_count": 14,
   "metadata": {},
   "outputs": [
    {
     "name": "stdout",
     "output_type": "stream",
     "text": [
      "torch.Size([64, 240])\n"
     ]
    }
   ],
   "source": [
    "import torch\n",
    "from ecg_embed import EcgEmbed\n",
    "\n",
    "batch = torch.rand(64, 12, 5000)\n",
    "embed = EcgEmbed()([batch, None])\n",
    "print(embed[0].shape)"
   ]
  },
  {
   "cell_type": "code",
   "execution_count": null,
   "metadata": {},
   "outputs": [],
   "source": []
  }
 ],
 "metadata": {
  "kernelspec": {
   "display_name": "ecg_xai",
   "language": "python",
   "name": "python3"
  },
  "language_info": {
   "codemirror_mode": {
    "name": "ipython",
    "version": 3
   },
   "file_extension": ".py",
   "mimetype": "text/x-python",
   "name": "python",
   "nbconvert_exporter": "python",
   "pygments_lexer": "ipython3",
   "version": "3.10.9"
  },
  "orig_nbformat": 4,
  "vscode": {
   "interpreter": {
    "hash": "0569e8e34fbffa64ddde13531ba218e8965b8865ea4687f921e22006832672cb"
   }
  }
 },
 "nbformat": 4,
 "nbformat_minor": 2
}
