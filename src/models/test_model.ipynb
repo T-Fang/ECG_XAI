{
 "cells": [
  {
   "cell_type": "code",
   "execution_count": 1,
   "metadata": {},
   "outputs": [],
   "source": [
    "%load_ext autoreload\n",
    "%autoreload 2\n",
    "import sys\n",
    "sys.path.insert(1, '../../')"
   ]
  },
  {
   "cell_type": "code",
   "execution_count": 2,
   "metadata": {},
   "outputs": [
    {
     "name": "stderr",
     "output_type": "stream",
     "text": [
      "/home/ftian/storage/miniconda/envs/ecg_xai/lib/python3.10/site-packages/tqdm/auto.py:22: TqdmWarning: IProgress not found. Please update jupyter and ipywidgets. See https://ipywidgets.readthedocs.io/en/stable/user_install.html\n",
      "  from .autonotebook import tqdm as notebook_tqdm\n"
     ]
    },
    {
     "name": "stdout",
     "output_type": "stream",
     "text": [
      "torch.Size([64, 240])\n"
     ]
    }
   ],
   "source": [
    "import torch\n",
    "from src.models.ecg_step_module import EcgEmbed\n",
    "from src.basic.dx_and_feat import Feature, zero_vec\n",
    "\n",
    "N = 64 # batch_size\n",
    "batched_ecg = torch.rand(N, 12, 5000)\n",
    "batched_feat = zero_vec(Feature, [N])\n",
    "batched_input = (batched_ecg, batched_feat)\n",
    "all_mid_output = {'pipeline': {}}\n",
    "embed = EcgEmbed(all_mid_output)(batched_input)\n",
    "print(all_mid_output['EcgEmbed']['embed'].shape)"
   ]
  },
  {
   "cell_type": "code",
   "execution_count": 3,
   "metadata": {},
   "outputs": [],
   "source": [
    "# from torch import nn\n",
    "# from pmlayer.torch.hierarchical_lattice_layer import HLattice\n",
    "\n",
    "# output_layer = nn.Linear(64, 1)\n",
    "# consequent_model = nn.Sequential(self.embed_layer, output_layer)\n",
    "# HLattice(263, sizes, self.lattice_inc_indices, consequent_model)"
   ]
  },
  {
   "cell_type": "code",
   "execution_count": 16,
   "metadata": {},
   "outputs": [
    {
     "name": "stdout",
     "output_type": "stream",
     "text": [
      "torch.Size([64, 1])\n"
     ]
    },
    {
     "data": {
      "text/plain": [
       "(tensor(0., grad_fn=<BinaryCrossEntropyBackward0>),\n",
       " tensor([0.], grad_fn=<AddBackward0>))"
      ]
     },
     "execution_count": 16,
     "metadata": {},
     "output_type": "execute_result"
    }
   ],
   "source": [
    "from src.models.ecg_step_module import BlockModule\n",
    "# all_mid_output['BlockModule'].clear()\n",
    "block_module = BlockModule(all_mid_output)\n",
    "# print(block_module)\n",
    "block_module(batched_input)"
   ]
  },
  {
   "cell_type": "code",
   "execution_count": 17,
   "metadata": {},
   "outputs": [
    {
     "name": "stdout",
     "output_type": "stream",
     "text": [
      "torch.Size([64])\n",
      "torch.Size([64])\n",
      "torch.Size([64])\n",
      "torch.Size([64])\n",
      "torch.Size([64])\n"
     ]
    }
   ],
   "source": [
    "print(all_mid_output['BlockModule']['LPR_imp'].shape)\n",
    "print(all_mid_output['BlockModule']['LQRS_imp'].shape)\n",
    "print(all_mid_output['BlockModule']['AVB'].shape)\n",
    "print(all_mid_output['BlockModule']['LBBB'].shape)\n",
    "print(all_mid_output['BlockModule']['RBBB'].shape)"
   ]
  },
  {
   "cell_type": "code",
   "execution_count": 23,
   "metadata": {},
   "outputs": [
    {
     "name": "stdout",
     "output_type": "stream",
     "text": [
      "<class 'dict'>\n",
      "<class 'dict'>\n",
      "<class 'dict'>\n",
      "(0, 0)\n"
     ]
    }
   ],
   "source": [
    "from src.basic.rule_ml import SeqSteps\n",
    "from src.models.ecg_step_module import EcgEmbed, BlockModule\n",
    "from src.basic.dx_and_feat import Feature, zero_vec\n",
    "\n",
    "N = 64 # batch_size\n",
    "batched_ecg = torch.rand(N, 12, 5000)\n",
    "batched_feat = zero_vec(Feature, [N])\n",
    "batched_input = (batched_ecg, batched_feat)\n",
    "all_mid_output = {}\n",
    "\n",
    "# test SeqSteps\n",
    "seq1 = SeqSteps('seq1', all_mid_output, [EcgEmbed(all_mid_output), BlockModule(all_mid_output)])\n",
    "losses = seq1(batched_input)\n",
    "print(losses)"
   ]
  },
  {
   "cell_type": "code",
   "execution_count": 34,
   "metadata": {},
   "outputs": [
    {
     "name": "stdout",
     "output_type": "stream",
     "text": [
      "tensor(0.1047, grad_fn=<AddBackward0>)\n"
     ]
    }
   ],
   "source": [
    "from src.basic.rule_ml import PipelineModule\n",
    "from src.basic.dx_and_feat import Diagnosis\n",
    "y = torch.zeros([N, len(Diagnosis)], dtype=torch.float32)\n",
    "batch = (batched_input, y)\n",
    "# test PipelineModule\n",
    "pipeline_module = PipelineModule()\n",
    "all_mid_output = pipeline_module.all_mid_output\n",
    "seq2 = SeqSteps('seq2', all_mid_output, [EcgEmbed(all_mid_output), BlockModule(all_mid_output)])\n",
    "pipeline_module.add_pipeline(seq2)\n",
    "losses = pipeline_module.training_step(batch, 0)\n",
    "print(losses)"
   ]
  },
  {
   "cell_type": "code",
   "execution_count": null,
   "metadata": {},
   "outputs": [],
   "source": []
  },
  {
   "cell_type": "code",
   "execution_count": null,
   "metadata": {},
   "outputs": [],
   "source": []
  }
 ],
 "metadata": {
  "kernelspec": {
   "display_name": "ecg_xai",
   "language": "python",
   "name": "python3"
  },
  "language_info": {
   "codemirror_mode": {
    "name": "ipython",
    "version": 3
   },
   "file_extension": ".py",
   "mimetype": "text/x-python",
   "name": "python",
   "nbconvert_exporter": "python",
   "pygments_lexer": "ipython3",
   "version": "3.10.9"
  },
  "orig_nbformat": 4,
  "vscode": {
   "interpreter": {
    "hash": "0569e8e34fbffa64ddde13531ba218e8965b8865ea4687f921e22006832672cb"
   }
  }
 },
 "nbformat": 4,
 "nbformat_minor": 2
}
