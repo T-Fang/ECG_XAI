{
 "cells": [
  {
   "cell_type": "code",
   "execution_count": 1,
   "metadata": {
    "collapsed": true
   },
   "outputs": [],
   "source": [
    "import ast\n",
    "import os\n",
    "import wfdb\n",
    "import pickle\n",
    "import numpy as np\n",
    "import pandas as pd\n",
    "import pytorch_lightning as pl\n",
    "from torch.utils.data import DataLoader\n",
    "from src.basic.constants import PTBXL_PATH, PROCESSED_DATA_PATH, SAMPLING_RATE, CHOSEN_METADATA, TRAIN_FOLDS, VAL_FOLDS, TEST_FOLDS  # noqa E501\n",
    "from src.basic.ecg_dataset import EcgDataset"
   ]
  },
  {
   "cell_type": "code",
   "execution_count": 20,
   "outputs": [],
   "source": [
    "from data_utils import *"
   ],
   "metadata": {
    "collapsed": false,
    "pycharm": {
     "name": "#%%\n"
    }
   }
  },
  {
   "cell_type": "code",
   "execution_count": 21,
   "outputs": [],
   "source": [
    "database=load_database('/Users/haoyangchen/Desktop/ChenHaoyang/coding/python/ECG_XAI/data/ptbxl')"
   ],
   "metadata": {
    "collapsed": false,
    "pycharm": {
     "name": "#%%\n"
    }
   }
  },
  {
   "cell_type": "code",
   "execution_count": 24,
   "outputs": [
    {
     "name": "stdout",
     "output_type": "stream",
     "text": [
      "         age  sex                                 scp_codes heart_axis  \\\n",
      "ecg_id                                                                   \n",
      "1       56.0    1  {'NORM': 100.0, 'LVOLT': 0.0, 'SR': 0.0}        NaN   \n",
      "2       19.0    0              {'NORM': 80.0, 'SBRAD': 0.0}        NaN   \n",
      "3       37.0    1                {'NORM': 100.0, 'SR': 0.0}        NaN   \n",
      "4       24.0    0                {'NORM': 100.0, 'SR': 0.0}        NaN   \n",
      "5       19.0    1                {'NORM': 100.0, 'SR': 0.0}        NaN   \n",
      "\n",
      "       infarction_stadium1  strat_fold                filename_lr  \\\n",
      "ecg_id                                                              \n",
      "1                      NaN           3  records100/00000/00001_lr   \n",
      "2                      NaN           2  records100/00000/00002_lr   \n",
      "3                      NaN           5  records100/00000/00003_lr   \n",
      "4                      NaN           3  records100/00000/00004_lr   \n",
      "5                      NaN           4  records100/00000/00005_lr   \n",
      "\n",
      "                      filename_hr         superclass      diagnoses     form  \n",
      "ecg_id                                                                        \n",
      "1       records500/00000/00001_hr  [NORM, FORM, ARR]     [NORM, SR]  [LVOLT]  \n",
      "2       records500/00000/00002_hr        [NORM, ARR]  [SBRAD, NORM]       []  \n",
      "3       records500/00000/00003_hr        [NORM, ARR]     [NORM, SR]       []  \n",
      "4       records500/00000/00004_hr        [NORM, ARR]     [NORM, SR]       []  \n",
      "5       records500/00000/00005_hr        [NORM, ARR]     [NORM, SR]       []  \n"
     ]
    }
   ],
   "source": [
    "print(database.iloc[:5])\n",
    "# database.describe()"
   ],
   "metadata": {
    "collapsed": false,
    "pycharm": {
     "name": "#%%\n"
    }
   }
  },
  {
   "cell_type": "code",
   "execution_count": 23,
   "outputs": [],
   "source": [
    "X = load_corresponding_ecg(database, '/Users/haoyangchen/Desktop/ChenHaoyang/coding/python/ECG_XAI/data/ptbxl')"
   ],
   "metadata": {
    "collapsed": false,
    "pycharm": {
     "name": "#%%\n"
    }
   }
  },
  {
   "cell_type": "code",
   "execution_count": null,
   "outputs": [],
   "source": [
    "# train_mask = database.strat_fold.isin(TRAIN_FOLDS)\n",
    "# train_ds = EcgDataset('train', X[train_mask], database[train_mask])\n",
    "# val_mask = database.strat_fold.isin(VAL_FOLDS)\n",
    "# val_ds = EcgDataset('val', X[val_mask], database[val_mask])\n",
    "# test_mask = database.strat_fold.isin(TEST_FOLDS)\n",
    "# test_ds = EcgDataset('test', X[test_mask], database[test_mask])"
   ],
   "metadata": {
    "collapsed": false,
    "pycharm": {
     "name": "#%%\n",
     "is_executing": true
    }
   }
  },
  {
   "cell_type": "code",
   "execution_count": null,
   "outputs": [],
   "source": [
    "train_ds = pickle.load(open(os.path.join(\"/Users/haoyangchen/Desktop/ChenHaoyang/coding/python/ECG_XAI/data/processed\", 'train_ds_with_feat.pickle'), \"rb\"))\n",
    "val_ds = pickle.load(open(os.path.join(\"/Users/haoyangchen/Desktop/ChenHaoyang/coding/python/ECG_XAI/data/processed\", 'val_ds_with_feat.pickle'), \"rb\"))\n",
    "test_ds = pickle.load(open(os.path.join(\"/Users/haoyangchen/Desktop/ChenHaoyang/coding/python/ECG_XAI/data/processed\", 'test_ds_with_feat.pickle'), \"rb\"))"
   ],
   "metadata": {
    "collapsed": false,
    "pycharm": {
     "name": "#%%\n"
    }
   }
  },
  {
   "cell_type": "code",
   "execution_count": null,
   "outputs": [],
   "source": [],
   "metadata": {
    "collapsed": false,
    "pycharm": {
     "name": "#%%\n"
    }
   }
  }
 ],
 "metadata": {
  "kernelspec": {
   "display_name": "Python 3",
   "language": "python",
   "name": "python3"
  },
  "language_info": {
   "codemirror_mode": {
    "name": "ipython",
    "version": 2
   },
   "file_extension": ".py",
   "mimetype": "text/x-python",
   "name": "python",
   "nbconvert_exporter": "python",
   "pygments_lexer": "ipython2",
   "version": "2.7.6"
  }
 },
 "nbformat": 4,
 "nbformat_minor": 0
}